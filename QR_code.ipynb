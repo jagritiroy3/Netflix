{
  "nbformat": 4,
  "nbformat_minor": 0,
  "metadata": {
    "colab": {
      "provenance": [],
      "authorship_tag": "ABX9TyN4zSsGOiy4XXoDxtU8oBh1",
      "include_colab_link": true
    },
    "kernelspec": {
      "name": "python3",
      "display_name": "Python 3"
    },
    "language_info": {
      "name": "python"
    }
  },
  "cells": [
    {
      "cell_type": "markdown",
      "metadata": {
        "id": "view-in-github",
        "colab_type": "text"
      },
      "source": [
        "<a href=\"https://colab.research.google.com/github/jagritiroy3/Netflix/blob/main/QR_code.ipynb\" target=\"_parent\"><img src=\"https://colab.research.google.com/assets/colab-badge.svg\" alt=\"Open In Colab\"/></a>"
      ]
    },
    {
      "cell_type": "code",
      "execution_count": 18,
      "metadata": {
        "colab": {
          "base_uri": "https://localhost:8080/"
        },
        "id": "pU-uViwsr5db",
        "outputId": "866c0b3f-32a0-4641-932d-c57ecc8bca63"
      },
      "outputs": [
        {
          "output_type": "stream",
          "name": "stdout",
          "text": [
            "Requirement already satisfied: qrcode in /usr/local/lib/python3.11/dist-packages (8.0)\n"
          ]
        }
      ],
      "source": [
        "pip install qrcode"
      ]
    },
    {
      "cell_type": "code",
      "source": [
        "import qrcode\n",
        "from PIL import Image"
      ],
      "metadata": {
        "id": "crSmEc2mr_-f"
      },
      "execution_count": 19,
      "outputs": []
    },
    {
      "cell_type": "code",
      "source": [
        "qr = qrcode.QRCode(version=1,\n",
        "                   error_correction=qrcode.constants.ERROR_CORRECT_H,\n",
        "                   box_size=10,border=10)\n",
        "qr.add_data(\"https://www.youtube.com/@JagritiRay-xm1rr/videos\")\n",
        "qr.make(fit=True)\n",
        "img = qr.make_image(fill_color=\"red\",back_color=\"white\")\n",
        "img.save(\"JR_Youtube.png\")"
      ],
      "metadata": {
        "id": "rPlQxHQwsMkP"
      },
      "execution_count": 20,
      "outputs": []
    }
  ]
}